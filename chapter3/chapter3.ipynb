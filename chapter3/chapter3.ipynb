{
 "cells": [
  {
   "cell_type": "markdown",
   "metadata": {},
   "source": [
    "# Chapter3 Linear Model"
   ]
  },
  {
   "cell_type": "markdown",
   "metadata": {},
   "source": [
    "## Linear model의 기본 형식"
   ]
  },
  {
   "cell_type": "markdown",
   "metadata": {},
   "source": [
    "$$\n",
    "f(x) = w_1x_1 + w_2x_2 + \\ldots + w_dx_d + b\n",
    "$$\n"
   ]
  },
  {
   "cell_type": "markdown",
   "metadata": {},
   "source": [
    "$$\n",
    "f(x) = \\mathbf{w}^T\\mathbf{x} + b\n",
    "$$\n"
   ]
  },
  {
   "cell_type": "markdown",
   "metadata": {},
   "source": [
    "$$\n",
    "\\mathbf{w} = (w_1; w_2; \\ldots; w_d)\n",
    "$$"
   ]
  },
  {
   "cell_type": "markdown",
   "metadata": {},
   "source": [
    "linear model 자체는 형식이 매우 간단하고 만들기 쉬우나, 머신러닝의 중요한 기본 사상을 담고 있습니다. <br>\n",
    "강력한 성능을 가진 non-linear model들은 linear model을 기반으로 하여 layer을 쌓아 올리거나(ex. DNN) 고차원으로 투영(ex. SVM)하여 만들어집니다. <br>"
   ]
  },
  {
   "cell_type": "markdown",
   "metadata": {},
   "source": [
    "![](img/dnn.png) <br>\n",
    "※ DNN\n",
    "\n",
    "![](img/svm.png) <br>\n",
    "※ SVM"
   ]
  },
  {
   "cell_type": "markdown",
   "metadata": {},
   "source": [
    "## Linear Regression"
   ]
  },
  {
   "cell_type": "markdown",
   "metadata": {},
   "source": [
    "linear regression은 최대한 정확하게 실제 데이터를 예측하는 linear model을 학습하는 것을 목표로 합니다. <br>\n",
    "속성이 하나 뿐인 가장 간단한 상황을 고려했을 때, linear regression은 다음과 같은 함수를 학습합니다. <br>\n",
    "$$\n",
    "f(x_i) = w x_i + b \\text{을 통해} f(x_i) \\approx y_i \\text{를 얻는다.}\n",
    "$$"
   ]
  },
  {
   "cell_type": "markdown",
   "metadata": {},
   "source": [
    "위 식에서 $w$와 $b$는 $f(x)$와 $y$의 **차이**를 어떻게 측정하느냐에 달렸습니다. <br>\n",
    "이 **차이**는 일반적으로 MSE(Mean Squared Error)를 사용하여 구하게 됩니다.\n",
    "\n",
    "$$\n",
    "(w^*, b^*) = \\underset{(w,b)}{\\mathrm{arg\\,min}} \\sum_{i=1}^m (f(x_i) - y_i)^2\n",
    "$$\n",
    "\n",
    "$$\n",
    "= \\underset{(w,b)}{\\mathrm{arg\\,min}} \\sum_{i=1}^m (y_i - wx_i - b)^2.\n",
    "$$\n"
   ]
  },
  {
   "cell_type": "markdown",
   "metadata": {},
   "source": [
    "MSE는 기하학적인 의미가 있습니다. 유클리드 거리(Euclidean distance)를 사용하기 때문입니다. <br><br>\n",
    "<img src=\"img/Euclidean_Distance.png\" width=\"400\" height=\"400\">"
   ]
  },
  {
   "cell_type": "markdown",
   "metadata": {},
   "source": [
    "MSE를 최소화 하는 방법으로 모델의 해를 구하는 방법을 최소제곱법(Least Square Method)이라 부르며, <br>\n",
    "linear regression에서 최소제곱법은 데이터 포인트와의 유클리드 거리의 합이 가장 작은 하나의 직선을 찾는 것을 목표로 합니다.\n",
    "<img src=\"img/linear_regression.png\" width=\"400\" height=\"400\">"
   ]
  },
  {
   "cell_type": "markdown",
   "metadata": {},
   "source": []
  }
 ],
 "metadata": {
  "kernelspec": {
   "display_name": ".opencv",
   "language": "python",
   "name": "python3"
  },
  "language_info": {
   "name": "python",
   "version": "3.8.10"
  }
 },
 "nbformat": 4,
 "nbformat_minor": 2
}
